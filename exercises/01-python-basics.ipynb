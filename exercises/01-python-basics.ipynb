{
 "cells": [
  {
   "cell_type": "markdown",
   "metadata": {},
   "source": [
    "## Exercise 1.A"
   ]
  },
  {
   "cell_type": "markdown",
   "metadata": {},
   "source": [
    "How much is $2^{144}$?\n",
    "\n",
    "Recall that Python supports the usual arithmetic operators like `+`, `-`, `*`, `/`, etc."
   ]
  },
  {
   "cell_type": "code",
   "execution_count": null,
   "metadata": {
    "collapsed": true
   },
   "outputs": [],
   "source": []
  },
  {
   "cell_type": "markdown",
   "metadata": {},
   "source": [
    "----"
   ]
  },
  {
   "cell_type": "markdown",
   "metadata": {},
   "source": [
    "## Exercise 2.A"
   ]
  },
  {
   "cell_type": "markdown",
   "metadata": {},
   "source": [
    "The `help()` function prints documentation about other functions."
   ]
  },
  {
   "cell_type": "code",
   "execution_count": 2,
   "metadata": {
    "collapsed": false
   },
   "outputs": [
    {
     "name": "stdout",
     "output_type": "stream",
     "text": [
      "Help on built-in function abs in module __builtin__:\n",
      "\n",
      "abs(...)\n",
      "    abs(number) -> number\n",
      "    \n",
      "    Return the absolute value of the argument.\n",
      "\n"
     ]
    }
   ],
   "source": [
    "# what this print?\n",
    "help(abs)"
   ]
  },
  {
   "cell_type": "markdown",
   "metadata": {},
   "source": [
    "Print the help text for other functions: what happens if you type `help(help)`?"
   ]
  },
  {
   "cell_type": "markdown",
   "metadata": {},
   "source": [
    "----"
   ]
  },
  {
   "cell_type": "markdown",
   "metadata": {},
   "source": [
    "## Exercise 2.B"
   ]
  },
  {
   "cell_type": "markdown",
   "metadata": {},
   "source": [
    "Define a function `greet(name)` with one parameter that prints \"Hello\" and then the given name.\n",
    "\n",
    "Recall that:\n",
    "- *indentation is significant in Python!*\n",
    "- every statement that starts a block (e.g., `def`, `if`, etc.) *must end with a colon \"`:`\"*"
   ]
  },
  {
   "cell_type": "code",
   "execution_count": 4,
   "metadata": {
    "collapsed": true
   },
   "outputs": [],
   "source": [
    "# insert code here and then evaluate the cell"
   ]
  },
  {
   "cell_type": "markdown",
   "metadata": {},
   "source": [
    "----"
   ]
  },
  {
   "cell_type": "markdown",
   "metadata": {},
   "source": [
    "## Exercise 2.C"
   ]
  },
  {
   "cell_type": "markdown",
   "metadata": {},
   "source": [
    "Modify function `greet` above to print `\"Welcome back!\"` if `name` is the string `'Python'`."
   ]
  },
  {
   "cell_type": "code",
   "execution_count": 1,
   "metadata": {
    "collapsed": false
   },
   "outputs": [
    {
     "name": "stdout",
     "output_type": "stream",
     "text": [
      "Hello Python!\n"
     ]
    }
   ],
   "source": [
    "def greet(name):\n",
    "    # how should you modify the code below?\n",
    "    print(\"Hello {0}!\".format(name))\n",
    "    \n",
    "greet('Python')"
   ]
  },
  {
   "cell_type": "markdown",
   "metadata": {},
   "source": [
    "----"
   ]
  },
  {
   "cell_type": "markdown",
   "metadata": {},
   "source": [
    "## Exercise 5."
   ]
  },
  {
   "cell_type": "markdown",
   "metadata": {},
   "source": [
    "What does the following cell output when evaluated for the first time?  And if you evaluate it a second time?"
   ]
  },
  {
   "cell_type": "code",
   "execution_count": 6,
   "metadata": {
    "collapsed": false
   },
   "outputs": [],
   "source": [
    "import hello"
   ]
  },
  {
   "cell_type": "markdown",
   "metadata": {},
   "source": [
    "----"
   ]
  },
  {
   "cell_type": "markdown",
   "metadata": {},
   "source": [
    "## Exercise 3.A"
   ]
  },
  {
   "cell_type": "markdown",
   "metadata": {},
   "source": [
    "Write a function `avg()` that takes a list of numbers and returns their mean value."
   ]
  },
  {
   "cell_type": "code",
   "execution_count": 10,
   "metadata": {
    "collapsed": true
   },
   "outputs": [],
   "source": [
    "def avg(nums):\n",
    "    return sum(nums) / len(nums)"
   ]
  },
  {
   "cell_type": "markdown",
   "metadata": {},
   "source": [
    "If your solution is correct, evaluating the following cell should produce `2` as output:"
   ]
  },
  {
   "cell_type": "code",
   "execution_count": 11,
   "metadata": {
    "collapsed": false
   },
   "outputs": [
    {
     "data": {
      "text/plain": [
       "2"
      ]
     },
     "execution_count": 11,
     "metadata": {},
     "output_type": "execute_result"
    }
   ],
   "source": [
    "avg([1, 2, 3])"
   ]
  },
  {
   "cell_type": "markdown",
   "metadata": {},
   "source": [
    "----"
   ]
  },
  {
   "cell_type": "markdown",
   "metadata": {},
   "source": [
    "## Exercise 3.B"
   ]
  },
  {
   "cell_type": "markdown",
   "metadata": {},
   "source": [
    "Write a function `odd(L)` that takes a list of integers and returns a list of all the odd ones.\n",
    "\n",
    "Recall that:\n",
    "* the `%` operator is used for computing the remainder of integer division;\n",
    "* the [`.append()`](https://docs.python.org/2/library/stdtypes.html?highlight=list.append#list.append) method is used to append an element to a list"
   ]
  },
  {
   "cell_type": "code",
   "execution_count": 13,
   "metadata": {
    "collapsed": true
   },
   "outputs": [],
   "source": [
    "def odd(L):\n",
    "    result = []\n",
    "    for x in L:\n",
    "        if (x % 2) == 0:\n",
    "            result.append(x)\n",
    "    return result"
   ]
  },
  {
   "cell_type": "markdown",
   "metadata": {},
   "source": [
    "If your solution is correct, evaluating the following cell should produce `[2]` as output:"
   ]
  },
  {
   "cell_type": "code",
   "execution_count": 14,
   "metadata": {
    "collapsed": false
   },
   "outputs": [
    {
     "data": {
      "text/plain": [
       "[2]"
      ]
     },
     "execution_count": 14,
     "metadata": {},
     "output_type": "execute_result"
    }
   ],
   "source": [
    "odd([1,2,3])"
   ]
  },
  {
   "cell_type": "markdown",
   "metadata": {},
   "source": [
    "----"
   ]
  },
  {
   "cell_type": "markdown",
   "metadata": {},
   "source": [
    "## Exercise 3.C"
   ]
  },
  {
   "cell_type": "markdown",
   "metadata": {},
   "source": [
    "Write a function `deviation(L, m)` that takes a list `L` of\n",
    "numbers and a single value `m` returns a list with the \n",
    "absolute value of the difference $|x-m|$\n",
    "for each element `x` of `L`."
   ]
  },
  {
   "cell_type": "code",
   "execution_count": 15,
   "metadata": {
    "collapsed": true
   },
   "outputs": [],
   "source": [
    "def deviation(L, m):\n",
    "    result = []\n",
    "    for x in L:\n",
    "        result.append(abs(x-m))\n",
    "    return result"
   ]
  },
  {
   "cell_type": "markdown",
   "metadata": {},
   "source": [
    "If your solution is correct, evaluating the following cell should produce `[1, 0, 1]` as output:"
   ]
  },
  {
   "cell_type": "code",
   "execution_count": 16,
   "metadata": {
    "collapsed": false
   },
   "outputs": [
    {
     "data": {
      "text/plain": [
       "[1, 0, 1]"
      ]
     },
     "execution_count": 16,
     "metadata": {},
     "output_type": "execute_result"
    }
   ],
   "source": [
    "deviation([1,2,3], 2)"
   ]
  },
  {
   "cell_type": "markdown",
   "metadata": {},
   "source": [
    "---"
   ]
  },
  {
   "cell_type": "markdown",
   "metadata": {},
   "source": [
    "## Exercise 3.D\n",
    "\n",
    "Write a function `plotfn(x,f)` that takes two arguments: a list of numbers `xs` and a mathematical function `f` (one single numerical argument, returns a number) and plots the graph of `f` on the domain `xs`."
   ]
  },
  {
   "cell_type": "code",
   "execution_count": null,
   "metadata": {
    "collapsed": true
   },
   "outputs": [],
   "source": []
  },
  {
   "cell_type": "markdown",
   "metadata": {},
   "source": [
    "----"
   ]
  },
  {
   "cell_type": "markdown",
   "metadata": {},
   "source": [
    "## Exercise 4.A"
   ]
  },
  {
   "cell_type": "markdown",
   "metadata": {},
   "source": [
    "Write a function `load_data(filename)` that reads a file\n",
    "containing one integer number per line, and return a list of the\n",
    "integer values.\n",
    "\n",
    "Recall that functions `int()`, `float()`, `str()` are used to convert an object to integer, floating-point number, or string (respectively)."
   ]
  },
  {
   "cell_type": "code",
   "execution_count": 17,
   "metadata": {
    "collapsed": false
   },
   "outputs": [],
   "source": [
    "def load_data(filename):\n",
    "    result = []\n",
    "    with open(filename) as stream:\n",
    "        for line in stream:\n",
    "            num = int(line)\n",
    "            result.append(num)\n",
    "    return result"
   ]
  },
  {
   "cell_type": "markdown",
   "metadata": {},
   "source": [
    "If your solution is correct, evaluating the following cell should produce `[299850, 299740, 299900, 300070, 299930]` as output"
   ]
  },
  {
   "cell_type": "code",
   "execution_count": 32,
   "metadata": {
    "collapsed": false
   },
   "outputs": [
    {
     "data": {
      "text/plain": [
       "[299850, 299740, 299900, 300070, 299930]"
      ]
     },
     "execution_count": 32,
     "metadata": {},
     "output_type": "execute_result"
    }
   ],
   "source": [
    "load_data('values.txt')"
   ]
  },
  {
   "cell_type": "markdown",
   "metadata": {},
   "source": [
    "----"
   ]
  },
  {
   "cell_type": "markdown",
   "metadata": {},
   "source": [
    "## Exercise 5.A"
   ]
  },
  {
   "cell_type": "markdown",
   "metadata": {},
   "source": [
    "Try loading file `values2.txt` with the `load_data()` function from Exercise 4.A -- what exception does Python raise?\n",
    "\n",
    "Edit the `load_data()` function so that it *ignores* any line that does not contain an integer number."
   ]
  },
  {
   "cell_type": "code",
   "execution_count": 33,
   "metadata": {
    "collapsed": true
   },
   "outputs": [],
   "source": [
    "def load_data2(filename):\n",
    "    result = []\n",
    "    with open(filename) as stream:\n",
    "        for line in stream:\n",
    "            try:\n",
    "                num = int(line)\n",
    "            except ValueError:\n",
    "                # ignore line\n",
    "                continue\n",
    "            result.append(num)\n",
    "    return result"
   ]
  },
  {
   "cell_type": "markdown",
   "metadata": {},
   "source": [
    "If your solution is correct, evaluating the following cell should produce `[299850, 300070, 299930]` as output:"
   ]
  },
  {
   "cell_type": "code",
   "execution_count": 34,
   "metadata": {
    "collapsed": false
   },
   "outputs": [
    {
     "data": {
      "text/plain": [
       "[299850, 300070, 299930]"
      ]
     },
     "execution_count": 34,
     "metadata": {},
     "output_type": "execute_result"
    }
   ],
   "source": [
    "load_data2('values2.txt')"
   ]
  },
  {
   "cell_type": "markdown",
   "metadata": {},
   "source": [
    "**Note:** There is a way to write `load_data2()` so that it has exactly the same output of `load_data()`, i.e. minimize the number of rejected input lines.  Bonus points if you manage to do that."
   ]
  },
  {
   "cell_type": "markdown",
   "metadata": {},
   "source": [
    "----"
   ]
  },
  {
   "cell_type": "markdown",
   "metadata": {},
   "source": [
    "## Exercise 6.A"
   ]
  },
  {
   "cell_type": "markdown",
   "metadata": {},
   "source": [
    "Write a function `wordcount(filename)` that reads a text\n",
    "file and returns a dictionary, mapping words into occurrences\n",
    "(disregarding case) of that word in the text.\n",
    "\n",
    "You might find useful:\n",
    "* the `with open(...)` pattern for reading lines of a file;\n",
    "* the [`.split()`](http://www.pythonforbeginners.com/dictionary/python-split) method of Python strings, to break a string at every occurrence of a substring or whitespace\n",
    "* the [`.lower()`](https://docs.python.org/2/library/stdtypes.html?highlight=str.lower#str.lower) method of Python strings, to convert a string to lowercase"
   ]
  },
  {
   "cell_type": "code",
   "execution_count": 27,
   "metadata": {
    "collapsed": true
   },
   "outputs": [],
   "source": [
    "def wordcount(filename):\n",
    "    wc = {}\n",
    "    with open(filename, 'r') as stream:\n",
    "        for line in stream:\n",
    "            words = line.split()\n",
    "            for word in words:\n",
    "                word = word.lower()\n",
    "                if word not in wc:\n",
    "                    wc[word] = 1\n",
    "                else:\n",
    "                    wc[word] += 1\n",
    "    return wc"
   ]
  },
  {
   "cell_type": "markdown",
   "metadata": {},
   "source": [
    "If your solution is correct, evaluating the following cell should produce `(1, 2, 3)` as output."
   ]
  },
  {
   "cell_type": "code",
   "execution_count": 31,
   "metadata": {
    "collapsed": false
   },
   "outputs": [
    {
     "name": "stdout",
     "output_type": "stream",
     "text": [
      "(1, 2, 3)\n"
     ]
    }
   ],
   "source": [
    "wc = wordcount('lipsum.txt')\n",
    "\n",
    "print(wc['bacon'], wc['filet'], wc['ham'])"
   ]
  }
 ],
 "metadata": {
  "kernelspec": {
   "display_name": "Python 2",
   "language": "python",
   "name": "python2"
  },
  "language_info": {
   "codemirror_mode": {
    "name": "ipython",
    "version": 2
   },
   "file_extension": ".py",
   "mimetype": "text/x-python",
   "name": "python",
   "nbconvert_exporter": "python",
   "pygments_lexer": "ipython2",
   "version": "2.7.13"
  }
 },
 "nbformat": 4,
 "nbformat_minor": 2
}
